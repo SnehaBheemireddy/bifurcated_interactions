{
 "cells": [
  {
   "cell_type": "code",
   "execution_count": 1,
   "metadata": {},
   "outputs": [
    {
     "name": "stderr",
     "output_type": "stream",
     "text": [
      "/home/sneha/anaconda3/lib/python3.8/site-packages/IPython/core/interactiveshell.py:3146: DtypeWarning: Columns (7) have mixed types.Specify dtype option on import or set low_memory=False.\n",
      "  has_raised = await self.run_ast_nodes(code_ast.body, cell_name,\n"
     ]
    }
   ],
   "source": [
    "import pandas as pd\n",
    "import requests\n",
    "\n",
    "df_pdb = pd.read_csv('/home/sneha/work/Bifur/combined_inter_599.csv')\n",
    "\n",
    "list_pdb = df_pdb['PDB_ID'].to_list()\n"
   ]
  },
  {
   "cell_type": "code",
   "execution_count": 27,
   "metadata": {},
   "outputs": [
    {
     "name": "stdout",
     "output_type": "stream",
     "text": [
      "Requirement already satisfied: requests in /home/sneha/anaconda3/lib/python3.8/site-packages (2.24.0)\n",
      "Requirement already satisfied: idna<3,>=2.5 in /home/sneha/anaconda3/lib/python3.8/site-packages (from requests) (2.10)\n",
      "Requirement already satisfied: chardet<4,>=3.0.2 in /home/sneha/anaconda3/lib/python3.8/site-packages (from requests) (3.0.4)\n",
      "Requirement already satisfied: urllib3!=1.25.0,!=1.25.1,<1.26,>=1.21.1 in /home/sneha/anaconda3/lib/python3.8/site-packages (from requests) (1.25.11)\n",
      "Requirement already satisfied: certifi>=2017.4.17 in /home/sneha/anaconda3/lib/python3.8/site-packages (from requests) (2020.6.20)\n"
     ]
    }
   ],
   "source": []
  },
  {
   "cell_type": "code",
   "execution_count": 2,
   "metadata": {},
   "outputs": [],
   "source": [
    "list_new = set(list_pdb)"
   ]
  },
  {
   "cell_type": "code",
   "execution_count": 3,
   "metadata": {},
   "outputs": [],
   "source": [
    "df = pd.read_excel(r'/home/sneha/work/Bifur/uniprot_pdb_bifur.xlsx')\n",
    "list_uniprot = df['Entry'].to_list()"
   ]
  },
  {
   "cell_type": "code",
   "execution_count": 18,
   "metadata": {},
   "outputs": [
    {
     "name": "stdout",
     "output_type": "stream",
     "text": [
      "P46783\n"
     ]
    },
    {
     "ename": "TypeError",
     "evalue": "urlencode() missing 1 required positional argument: 'query'",
     "output_type": "error",
     "traceback": [
      "\u001b[0;31m---------------------------------------------------------------------------\u001b[0m",
      "\u001b[0;31mTypeError\u001b[0m                                 Traceback (most recent call last)",
      "\u001b[0;32m<ipython-input-18-f69a859446a2>\u001b[0m in \u001b[0;36m<module>\u001b[0;34m\u001b[0m\n\u001b[1;32m     25\u001b[0m     \u001b[0;31m#}\u001b[0m\u001b[0;34m\u001b[0m\u001b[0;34m\u001b[0m\u001b[0;34m\u001b[0m\u001b[0m\n\u001b[1;32m     26\u001b[0m \u001b[0;34m\u001b[0m\u001b[0m\n\u001b[0;32m---> 27\u001b[0;31m     \u001b[0mdata\u001b[0m \u001b[0;34m=\u001b[0m \u001b[0murllib\u001b[0m\u001b[0;34m.\u001b[0m\u001b[0mparse\u001b[0m\u001b[0;34m.\u001b[0m\u001b[0murlencode\u001b[0m\u001b[0;34m(\u001b[0m\u001b[0;34m)\u001b[0m\u001b[0;34m\u001b[0m\u001b[0;34m\u001b[0m\u001b[0m\n\u001b[0m\u001b[1;32m     28\u001b[0m     \u001b[0mdata\u001b[0m \u001b[0;34m=\u001b[0m \u001b[0mdata\u001b[0m\u001b[0;34m.\u001b[0m\u001b[0mencode\u001b[0m\u001b[0;34m(\u001b[0m\u001b[0;34m'utf-8'\u001b[0m\u001b[0;34m)\u001b[0m\u001b[0;34m\u001b[0m\u001b[0;34m\u001b[0m\u001b[0m\n\u001b[1;32m     29\u001b[0m     \u001b[0mreq\u001b[0m \u001b[0;34m=\u001b[0m \u001b[0murllib\u001b[0m\u001b[0;34m.\u001b[0m\u001b[0mrequest\u001b[0m\u001b[0;34m.\u001b[0m\u001b[0mRequest\u001b[0m\u001b[0;34m(\u001b[0m\u001b[0murl\u001b[0m\u001b[0;34m,\u001b[0m \u001b[0mdata\u001b[0m\u001b[0;34m)\u001b[0m\u001b[0;34m\u001b[0m\u001b[0;34m\u001b[0m\u001b[0m\n",
      "\u001b[0;31mTypeError\u001b[0m: urlencode() missing 1 required positional argument: 'query'"
     ]
    }
   ],
   "source": [
    "import urllib.parse\n",
    "import urllib.request\n",
    "\n",
    "url = 'https://www.uniprot.org/uniprotkb?query=human&columns=id,proteome'\n",
    "#https://www.uniprot.org/uniprot/?query=P0C6X1&sort=score&columns=entry%20name,reviewed,genes,organism,length&format=tab\n",
    "#?query=human&columns=id,proteome\n",
    "#a = []\n",
    "l= ['P46783']\n",
    "    #,'P62280','P25398','P62277','P62263','P62841','P62244','P62249','P08708','P62269','P39019','P15880','P60866','P63220','P62266','P62847','P62851','P62854','P42677','P62857','P62273','P23396','P62861','P61247','P22090','P46782','P62753','P62081','P62241','P46781','P08865','P05388','P27635','P62906','P62913','P30050','P26373','P40429','P50914','P61313','P18621','Q07020','Q02543','P84098','P46778','P35268','P62829','P62750','P83731','P61254','P61353','P46776','P46779','P47914','P39023','P62888','P62899','P62910','P49207','P42766','P18077','Q9Y3U8','P83881','P61927','P61513','P63173','P62891','P36578','P62945','P46777','Q02878','P18124','P62424','P62917','P32969','P63244','P62979','P62987'\n",
    "   #]\n",
    "    \n",
    "for i in l:\n",
    "    print (i)\n",
    "    #params = {\n",
    "    #'from': 'ACC+ID',\n",
    "    #'to': 'ENSEMBL_ID',\n",
    "    #'query': i,\n",
    "    #'sort': 'score',\n",
    "    #'columns':'id',\n",
    "        #,feature(CHAIN),structure',\n",
    "        #feature(Mutagenesis)',\n",
    "    #'columns':'genes',\n",
    "    #'format': 'tab'\n",
    "    #'query': 'P40925 P40926 O43175 Q9UM73 P97793'\n",
    "    #}\n",
    "\n",
    "    data = urllib.parse.urlencode()\n",
    "    data = data.encode('utf-8')\n",
    "    req = urllib.request.Request(url, data)\n",
    "    with urllib.request.urlopen(req) as f:\n",
    "       response = f.read()\n",
    "    \n",
    "    a = response.decode('utf-8')\n",
    "    #line = a.split(\"\\n\")\n",
    "    #print(line[1:][:len(line)-2])\n",
    "    print(response.decode('utf-8'))"
   ]
  },
  {
   "cell_type": "code",
   "execution_count": 5,
   "metadata": {},
   "outputs": [
    {
     "ename": "TypeError",
     "evalue": "urlencode() missing 1 required positional argument: 'query'",
     "output_type": "error",
     "traceback": [
      "\u001b[0;31m---------------------------------------------------------------------------\u001b[0m",
      "\u001b[0;31mTypeError\u001b[0m                                 Traceback (most recent call last)",
      "\u001b[0;32m<ipython-input-5-a7aefa894689>\u001b[0m in \u001b[0;36m<module>\u001b[0;34m\u001b[0m\n\u001b[1;32m      4\u001b[0m \u001b[0;31m#for i in l:\u001b[0m\u001b[0;34m\u001b[0m\u001b[0;34m\u001b[0m\u001b[0;34m\u001b[0m\u001b[0m\n\u001b[1;32m      5\u001b[0m \u001b[0murl\u001b[0m \u001b[0;34m=\u001b[0m \u001b[0;34m'https://www.uniprot.org/uniprot/F1NPG5.txt'\u001b[0m\u001b[0;34m\u001b[0m\u001b[0;34m\u001b[0m\u001b[0m\n\u001b[0;32m----> 6\u001b[0;31m \u001b[0mdata\u001b[0m \u001b[0;34m=\u001b[0m \u001b[0murllib\u001b[0m\u001b[0;34m.\u001b[0m\u001b[0mparse\u001b[0m\u001b[0;34m.\u001b[0m\u001b[0murlencode\u001b[0m\u001b[0;34m(\u001b[0m\u001b[0;34m)\u001b[0m\u001b[0;34m\u001b[0m\u001b[0;34m\u001b[0m\u001b[0m\n\u001b[0m\u001b[1;32m      7\u001b[0m \u001b[0mdata\u001b[0m \u001b[0;34m=\u001b[0m \u001b[0mdata\u001b[0m\u001b[0;34m.\u001b[0m\u001b[0mencode\u001b[0m\u001b[0;34m(\u001b[0m\u001b[0;34m'utf-8'\u001b[0m\u001b[0;34m)\u001b[0m\u001b[0;34m\u001b[0m\u001b[0;34m\u001b[0m\u001b[0m\n\u001b[1;32m      8\u001b[0m \u001b[0mreq\u001b[0m \u001b[0;34m=\u001b[0m \u001b[0murllib\u001b[0m\u001b[0;34m.\u001b[0m\u001b[0mrequest\u001b[0m\u001b[0;34m.\u001b[0m\u001b[0mRequest\u001b[0m\u001b[0;34m(\u001b[0m\u001b[0murl\u001b[0m\u001b[0;34m,\u001b[0m \u001b[0mdata\u001b[0m\u001b[0;34m)\u001b[0m\u001b[0;34m\u001b[0m\u001b[0;34m\u001b[0m\u001b[0m\n",
      "\u001b[0;31mTypeError\u001b[0m: urlencode() missing 1 required positional argument: 'query'"
     ]
    }
   ],
   "source": [
    "import urllib.parse\n",
    "import urllib.request\n",
    "\n",
    "#for i in l:\n",
    "url = 'https://www.uniprot.org/uniprot/F1NPG5.txt'\n",
    "data = urllib.parse.urlencode()\n",
    "data = data.encode('utf-8')\n",
    "req = urllib.request.Request(url, data)\n",
    "with urllib.request.urlopen(req) as f:response = f.read()\n",
    "a = response.content\n",
    "print(a)"
   ]
  },
  {
   "cell_type": "code",
   "execution_count": 6,
   "metadata": {},
   "outputs": [
    {
     "data": {
      "text/html": [
       "<div>\n",
       "<style scoped>\n",
       "    .dataframe tbody tr th:only-of-type {\n",
       "        vertical-align: middle;\n",
       "    }\n",
       "\n",
       "    .dataframe tbody tr th {\n",
       "        vertical-align: top;\n",
       "    }\n",
       "\n",
       "    .dataframe thead th {\n",
       "        text-align: right;\n",
       "    }\n",
       "</style>\n",
       "<table border=\"1\" class=\"dataframe\">\n",
       "  <thead>\n",
       "    <tr style=\"text-align: right;\">\n",
       "      <th></th>\n",
       "      <th>DR</th>\n",
       "      <th>PDB</th>\n",
       "      <th>ID</th>\n",
       "      <th>Method</th>\n",
       "      <th>Resolution</th>\n",
       "      <th>A</th>\n",
       "      <th>Chain</th>\n",
       "      <th>length</th>\n",
       "    </tr>\n",
       "  </thead>\n",
       "  <tbody>\n",
       "    <tr>\n",
       "      <th>0</th>\n",
       "      <td>DR</td>\n",
       "      <td>PDB;</td>\n",
       "      <td>3B0C;</td>\n",
       "      <td>X-ray;</td>\n",
       "      <td>2.20</td>\n",
       "      <td>A;</td>\n",
       "      <td>T</td>\n",
       "      <td>531-639.</td>\n",
       "    </tr>\n",
       "    <tr>\n",
       "      <th>1</th>\n",
       "      <td>DR</td>\n",
       "      <td>PDB;</td>\n",
       "      <td>3B0D;</td>\n",
       "      <td>X-ray;</td>\n",
       "      <td>2.20</td>\n",
       "      <td>A;</td>\n",
       "      <td>B/T</td>\n",
       "      <td>531-639.</td>\n",
       "    </tr>\n",
       "    <tr>\n",
       "      <th>2</th>\n",
       "      <td>DR</td>\n",
       "      <td>PDB;</td>\n",
       "      <td>3VH5;</td>\n",
       "      <td>X-ray;</td>\n",
       "      <td>2.40</td>\n",
       "      <td>A;</td>\n",
       "      <td>T</td>\n",
       "      <td>531-637.</td>\n",
       "    </tr>\n",
       "    <tr>\n",
       "      <th>3</th>\n",
       "      <td>DR</td>\n",
       "      <td>PDB;</td>\n",
       "      <td>3VH6;</td>\n",
       "      <td>X-ray;</td>\n",
       "      <td>3.35</td>\n",
       "      <td>A;</td>\n",
       "      <td>T</td>\n",
       "      <td>531-637.</td>\n",
       "    </tr>\n",
       "    <tr>\n",
       "      <th>4</th>\n",
       "      <td>DR</td>\n",
       "      <td>PDB;</td>\n",
       "      <td>3VZA;</td>\n",
       "      <td>X-ray;</td>\n",
       "      <td>1.90</td>\n",
       "      <td>A;</td>\n",
       "      <td>E/F</td>\n",
       "      <td>63-98.</td>\n",
       "    </tr>\n",
       "  </tbody>\n",
       "</table>\n",
       "</div>"
      ],
      "text/plain": [
       "   DR   PDB     ID  Method Resolution   A Chain    length\n",
       "0  DR  PDB;  3B0C;  X-ray;       2.20  A;     T  531-639.\n",
       "1  DR  PDB;  3B0D;  X-ray;       2.20  A;   B/T  531-639.\n",
       "2  DR  PDB;  3VH5;  X-ray;       2.40  A;     T  531-637.\n",
       "3  DR  PDB;  3VH6;  X-ray;       3.35  A;     T  531-637.\n",
       "4  DR  PDB;  3VZA;  X-ray;       1.90  A;   E/F    63-98."
      ]
     },
     "execution_count": 6,
     "metadata": {},
     "output_type": "execute_result"
    }
   ],
   "source": [
    "columns = ['DR','PDB','ID','Method','Resolution','A','Chain','length' ]\n",
    "search_value = 'PDB;'\n",
    "def get_pdb_data(url, columns, search_value):\n",
    "    data_lst = []\n",
    "    response = requests.get(url).content.decode('utf-8')\n",
    "\n",
    "    for ln in response.split('\\n'):\n",
    "        if search_value in ln:\n",
    "            ln_data = [i.split('=') for i in ln.split() if '=' in i]\n",
    "            data_lst.append(ln.split()[0:-1]+ln_data[0])\n",
    "    df = pd.DataFrame(data_lst, columns=columns)\n",
    "    return df\n",
    "get_pdb_data(url, columns, search_value)"
   ]
  },
  {
   "cell_type": "code",
   "execution_count": null,
   "metadata": {},
   "outputs": [],
   "source": []
  },
  {
   "cell_type": "code",
   "execution_count": null,
   "metadata": {},
   "outputs": [],
   "source": []
  }
 ],
 "metadata": {
  "kernelspec": {
   "display_name": "Python 3",
   "language": "python",
   "name": "python3"
  },
  "language_info": {
   "codemirror_mode": {
    "name": "ipython",
    "version": 3
   },
   "file_extension": ".py",
   "mimetype": "text/x-python",
   "name": "python",
   "nbconvert_exporter": "python",
   "pygments_lexer": "ipython3",
   "version": "3.8.5"
  }
 },
 "nbformat": 4,
 "nbformat_minor": 4
}
