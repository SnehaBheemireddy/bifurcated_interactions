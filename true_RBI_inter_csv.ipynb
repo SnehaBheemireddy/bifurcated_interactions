{
 "cells": [
  {
   "cell_type": "code",
   "execution_count": 6,
   "metadata": {},
   "outputs": [],
   "source": [
    "import pandas as pd\n",
    "import shutil, os\n",
    "\n",
    "#dir_inter = \"/csv_final\"\n",
    "true_RBI = pd.read_csv(\"final-combined-trbi-prbi.csv\")"
   ]
  },
  {
   "cell_type": "code",
   "execution_count": 10,
   "metadata": {},
   "outputs": [
    {
     "data": {
      "text/plain": [
       "599"
      ]
     },
     "execution_count": 10,
     "metadata": {},
     "output_type": "execute_result"
    }
   ],
   "source": [
    "list_pdb = true_RBI['PDB_ID'].unique()\n",
    "len(list_pdb)"
   ]
  },
  {
   "cell_type": "code",
   "execution_count": 8,
   "metadata": {},
   "outputs": [
    {
     "data": {
      "text/plain": [
       "'/home/sneha/work/Bifur/csv_final/interactions-1a00.pdb.csv'"
      ]
     },
     "execution_count": 8,
     "metadata": {},
     "output_type": "execute_result"
    }
   ],
   "source": [
    "'/home/sneha/work/Bifur/csv_final/interactions-1a00.pdb.csv'\n"
   ]
  },
  {
   "cell_type": "code",
   "execution_count": 9,
   "metadata": {},
   "outputs": [],
   "source": [
    "\n",
    "#files = ['file1.txt', 'file2.txt', 'file3.txt']\n",
    "for file in list_pdb:\n",
    "    name = '/home/sneha/work/Bifur/csv_final/interactions-'+file+'.csv'\n",
    "    shutil.copy(name, '/home/sneha/work/Bifur/csv_inter_final_4_may_21/')"
   ]
  },
  {
   "cell_type": "code",
   "execution_count": null,
   "metadata": {},
   "outputs": [],
   "source": []
  }
 ],
 "metadata": {
  "kernelspec": {
   "display_name": "Python 3",
   "language": "python",
   "name": "python3"
  },
  "language_info": {
   "codemirror_mode": {
    "name": "ipython",
    "version": 3
   },
   "file_extension": ".py",
   "mimetype": "text/x-python",
   "name": "python",
   "nbconvert_exporter": "python",
   "pygments_lexer": "ipython3",
   "version": "3.8.5"
  }
 },
 "nbformat": 4,
 "nbformat_minor": 4
}
